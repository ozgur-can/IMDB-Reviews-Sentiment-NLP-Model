{
 "cells": [
  {
   "cell_type": "code",
   "execution_count": 23,
   "id": "initial_id",
   "metadata": {
    "collapsed": true,
    "ExecuteTime": {
     "end_time": "2023-12-21T14:32:32.417186Z",
     "start_time": "2023-12-21T14:32:32.409675Z"
    }
   },
   "outputs": [],
   "source": [
    "# import packages\n",
    "\n",
    "import pandas as pd\n",
    "import numpy as np\n",
    "import re\n",
    "import string\n",
    "from nltk.corpus import stopwords\n",
    "import xgboost as xgb\n",
    "from nltk.tokenize import word_tokenize\n",
    "from sklearn.feature_extraction.text import TfidfVectorizer\n",
    "\n",
    "from sklearn import metrics\n",
    "from sklearn import model_selection"
   ]
  },
  {
   "cell_type": "code",
   "execution_count": 27,
   "outputs": [],
   "source": [
    "df_ = pd.read_csv(\"datasets/IMDB Dataset.csv\")\n",
    "# %10 of data\n",
    "df_ = df_.sample(frac = 0.1).reset_index(drop = True)"
   ],
   "metadata": {
    "collapsed": false,
    "ExecuteTime": {
     "end_time": "2023-12-21T14:48:37.869886Z",
     "start_time": "2023-12-21T14:48:37.189738Z"
    }
   },
   "id": "2e84077c54e81f2f"
  },
  {
   "cell_type": "code",
   "execution_count": 28,
   "outputs": [],
   "source": [
    "df = df_.copy()"
   ],
   "metadata": {
    "collapsed": false,
    "ExecuteTime": {
     "end_time": "2023-12-21T14:48:37.877584Z",
     "start_time": "2023-12-21T14:48:37.871108Z"
    }
   },
   "id": "4e57fdadc0057a17"
  },
  {
   "cell_type": "code",
   "execution_count": 29,
   "outputs": [
    {
     "data": {
      "text/plain": "                                              review sentiment\n0  Watched this on KQED, with Frank Baxter commen...  positive\n1  This is the first movie I ever owned on video,...  positive\n2  I have seen this movie when it was released an...  positive\n3  Red Eye, a movie that id had wanted to see for...  positive\n4  Is the Cannes controversy-meter remarkably eso...  negative",
      "text/html": "<div>\n<style scoped>\n    .dataframe tbody tr th:only-of-type {\n        vertical-align: middle;\n    }\n\n    .dataframe tbody tr th {\n        vertical-align: top;\n    }\n\n    .dataframe thead th {\n        text-align: right;\n    }\n</style>\n<table border=\"1\" class=\"dataframe\">\n  <thead>\n    <tr style=\"text-align: right;\">\n      <th></th>\n      <th>review</th>\n      <th>sentiment</th>\n    </tr>\n  </thead>\n  <tbody>\n    <tr>\n      <th>0</th>\n      <td>Watched this on KQED, with Frank Baxter commen...</td>\n      <td>positive</td>\n    </tr>\n    <tr>\n      <th>1</th>\n      <td>This is the first movie I ever owned on video,...</td>\n      <td>positive</td>\n    </tr>\n    <tr>\n      <th>2</th>\n      <td>I have seen this movie when it was released an...</td>\n      <td>positive</td>\n    </tr>\n    <tr>\n      <th>3</th>\n      <td>Red Eye, a movie that id had wanted to see for...</td>\n      <td>positive</td>\n    </tr>\n    <tr>\n      <th>4</th>\n      <td>Is the Cannes controversy-meter remarkably eso...</td>\n      <td>negative</td>\n    </tr>\n  </tbody>\n</table>\n</div>"
     },
     "execution_count": 29,
     "metadata": {},
     "output_type": "execute_result"
    }
   ],
   "source": [
    "df.head()"
   ],
   "metadata": {
    "collapsed": false,
    "ExecuteTime": {
     "end_time": "2023-12-21T14:48:38.807410Z",
     "start_time": "2023-12-21T14:48:38.801979Z"
    }
   },
   "id": "bf0392ac8a6083e"
  },
  {
   "cell_type": "code",
   "execution_count": 30,
   "outputs": [
    {
     "name": "stdout",
     "output_type": "stream",
     "text": [
      "##################### Shape #####################\n",
      "(5000, 2)\n",
      "##################### Types #####################\n",
      "review       object\n",
      "sentiment    object\n",
      "dtype: object\n",
      "##################### Head #####################\n",
      "                                              review sentiment\n",
      "0  Watched this on KQED, with Frank Baxter commen...  positive\n",
      "1  This is the first movie I ever owned on video,...  positive\n",
      "2  I have seen this movie when it was released an...  positive\n",
      "3  Red Eye, a movie that id had wanted to see for...  positive\n",
      "4  Is the Cannes controversy-meter remarkably eso...  negative\n",
      "##################### Tail #####################\n",
      "                                                 review sentiment\n",
      "4995  The Life and Time of Little Richard, as told b...  positive\n",
      "4996  Gorgeous Techicolor production telling the unu...  positive\n",
      "4997  Quite one of the worst films I have ever seen....  negative\n",
      "4998  Your first clue that this is a cheesy movie is...  negative\n",
      "4999  This movie is a gem...an undiscovered Gerry An...  positive\n",
      "##################### NA #####################\n",
      "review       0\n",
      "sentiment    0\n",
      "dtype: int64\n",
      "##################### Quantiles #####################\n",
      "          count unique                                                top  \\\n",
      "review     5000   4993  While there aren't any talking animals, big la...   \n",
      "sentiment  5000      2                                           positive   \n",
      "\n",
      "           freq  \n",
      "review        2  \n",
      "sentiment  2502  \n"
     ]
    }
   ],
   "source": [
    "def check_df(dataframe, head=5):\n",
    "    print(\"##################### Shape #####################\")\n",
    "    print(dataframe.shape)\n",
    "    print(\"##################### Types #####################\")\n",
    "    print(dataframe.dtypes)\n",
    "    print(\"##################### Head #####################\")\n",
    "    print(dataframe.head(head))\n",
    "    print(\"##################### Tail #####################\")\n",
    "    print(dataframe.tail(head))\n",
    "    print(\"##################### NA #####################\")\n",
    "    print(dataframe.isnull().sum())\n",
    "    print(\"##################### Quantiles #####################\")\n",
    "    #print(dataframe.quantile([0, 0.05, 0.50, 0.95, 0.99, 1]).T)\n",
    "    print(dataframe.describe([0, 0.05, 0.50, 0.95, 0.99, 1]).T)\n",
    "    \n",
    "check_df(df)"
   ],
   "metadata": {
    "collapsed": false,
    "ExecuteTime": {
     "end_time": "2023-12-21T14:48:42.100196Z",
     "start_time": "2023-12-21T14:48:42.082485Z"
    }
   },
   "id": "e0305b54470cfe83"
  },
  {
   "cell_type": "code",
   "execution_count": 31,
   "outputs": [
    {
     "data": {
      "text/plain": "review       0\nsentiment    0\ndtype: int64"
     },
     "execution_count": 31,
     "metadata": {},
     "output_type": "execute_result"
    }
   ],
   "source": [
    "df.isnull().sum()"
   ],
   "metadata": {
    "collapsed": false,
    "ExecuteTime": {
     "end_time": "2023-12-21T14:48:46.520330Z",
     "start_time": "2023-12-21T14:48:46.513676Z"
    }
   },
   "id": "5c6c5d31668e543a"
  },
  {
   "cell_type": "code",
   "execution_count": 32,
   "outputs": [],
   "source": [
    "# positive -> 1, negative -> 0\n",
    "df[\"sentiment\"] = [1 if i == \"positive\" else 0 for i in df[\"sentiment\"]]"
   ],
   "metadata": {
    "collapsed": false,
    "ExecuteTime": {
     "end_time": "2023-12-21T14:48:48.882297Z",
     "start_time": "2023-12-21T14:48:48.876947Z"
    }
   },
   "id": "d70216b3e107540"
  },
  {
   "cell_type": "code",
   "execution_count": 33,
   "outputs": [
    {
     "data": {
      "text/plain": "                                              review  sentiment\n0  Watched this on KQED, with Frank Baxter commen...          1\n1  This is the first movie I ever owned on video,...          1\n2  I have seen this movie when it was released an...          1\n3  Red Eye, a movie that id had wanted to see for...          1\n4  Is the Cannes controversy-meter remarkably eso...          0",
      "text/html": "<div>\n<style scoped>\n    .dataframe tbody tr th:only-of-type {\n        vertical-align: middle;\n    }\n\n    .dataframe tbody tr th {\n        vertical-align: top;\n    }\n\n    .dataframe thead th {\n        text-align: right;\n    }\n</style>\n<table border=\"1\" class=\"dataframe\">\n  <thead>\n    <tr style=\"text-align: right;\">\n      <th></th>\n      <th>review</th>\n      <th>sentiment</th>\n    </tr>\n  </thead>\n  <tbody>\n    <tr>\n      <th>0</th>\n      <td>Watched this on KQED, with Frank Baxter commen...</td>\n      <td>1</td>\n    </tr>\n    <tr>\n      <th>1</th>\n      <td>This is the first movie I ever owned on video,...</td>\n      <td>1</td>\n    </tr>\n    <tr>\n      <th>2</th>\n      <td>I have seen this movie when it was released an...</td>\n      <td>1</td>\n    </tr>\n    <tr>\n      <th>3</th>\n      <td>Red Eye, a movie that id had wanted to see for...</td>\n      <td>1</td>\n    </tr>\n    <tr>\n      <th>4</th>\n      <td>Is the Cannes controversy-meter remarkably eso...</td>\n      <td>0</td>\n    </tr>\n  </tbody>\n</table>\n</div>"
     },
     "execution_count": 33,
     "metadata": {},
     "output_type": "execute_result"
    }
   ],
   "source": [
    "df.head()"
   ],
   "metadata": {
    "collapsed": false,
    "ExecuteTime": {
     "end_time": "2023-12-21T14:48:50.380454Z",
     "start_time": "2023-12-21T14:48:50.373781Z"
    }
   },
   "id": "4ed5f68c5d786904"
  },
  {
   "cell_type": "code",
   "execution_count": 10,
   "outputs": [],
   "source": [
    "#create a new column called kfold and fill it with -1\n",
    "df['kfold'] = -1\n",
    "#randomize rows of the data\n",
    "df = df.sample(frac = 1).reset_index(drop = True)\n",
    "y = df.sentiment.values #labels"
   ],
   "metadata": {
    "collapsed": false,
    "ExecuteTime": {
     "end_time": "2023-12-21T14:27:51.274551Z",
     "start_time": "2023-12-21T14:27:51.246416Z"
    }
   },
   "id": "838310645f312580"
  },
  {
   "cell_type": "code",
   "execution_count": 34,
   "outputs": [],
   "source": [
    "#clean text\n",
    "def clean_text(text):\n",
    "    #lowercase every letter\n",
    "    text = text.split() #split by all white spaces\n",
    "    \n",
    "    #join tokens by single space, this will remove all kinds of weird spaces\n",
    "    text = \" \".join(text)\n",
    "    #removes all punctuation using regex and string module\n",
    "    text = re.sub(f'[{re.escape(string.punctuation)}]', '', text)\n",
    "    \n",
    "    \n",
    "    return text\n",
    "\n",
    "df.loc[:,'review'] = df.review.apply(clean_text)"
   ],
   "metadata": {
    "collapsed": false,
    "ExecuteTime": {
     "end_time": "2023-12-21T14:48:54.179332Z",
     "start_time": "2023-12-21T14:48:54.001132Z"
    }
   },
   "id": "5ccc26c8185777fa"
  },
  {
   "cell_type": "code",
   "execution_count": 37,
   "outputs": [
    {
     "data": {
      "text/plain": "                                              review  sentiment\n0  Watched this on KQED with Frank Baxter comment...          1\n1  This is the first movie I ever owned on video ...          1\n2  I have seen this movie when it was released an...          1\n3  Red Eye a movie that id had wanted to see for ...          1\n4  Is the Cannes controversymeter remarkably esot...          0",
      "text/html": "<div>\n<style scoped>\n    .dataframe tbody tr th:only-of-type {\n        vertical-align: middle;\n    }\n\n    .dataframe tbody tr th {\n        vertical-align: top;\n    }\n\n    .dataframe thead th {\n        text-align: right;\n    }\n</style>\n<table border=\"1\" class=\"dataframe\">\n  <thead>\n    <tr style=\"text-align: right;\">\n      <th></th>\n      <th>review</th>\n      <th>sentiment</th>\n    </tr>\n  </thead>\n  <tbody>\n    <tr>\n      <th>0</th>\n      <td>Watched this on KQED with Frank Baxter comment...</td>\n      <td>1</td>\n    </tr>\n    <tr>\n      <th>1</th>\n      <td>This is the first movie I ever owned on video ...</td>\n      <td>1</td>\n    </tr>\n    <tr>\n      <th>2</th>\n      <td>I have seen this movie when it was released an...</td>\n      <td>1</td>\n    </tr>\n    <tr>\n      <th>3</th>\n      <td>Red Eye a movie that id had wanted to see for ...</td>\n      <td>1</td>\n    </tr>\n    <tr>\n      <th>4</th>\n      <td>Is the Cannes controversymeter remarkably esot...</td>\n      <td>0</td>\n    </tr>\n  </tbody>\n</table>\n</div>"
     },
     "execution_count": 37,
     "metadata": {},
     "output_type": "execute_result"
    }
   ],
   "source": [
    "df.head()"
   ],
   "metadata": {
    "collapsed": false,
    "ExecuteTime": {
     "end_time": "2023-12-21T14:49:14.650997Z",
     "start_time": "2023-12-21T14:49:14.642029Z"
    }
   },
   "id": "4415bc5929a46c2f"
  },
  {
   "cell_type": "code",
   "execution_count": 38,
   "outputs": [],
   "source": [
    "# 10-fold cross validation\n",
    "\n",
    "y = df[\"sentiment\"]\n",
    "X = df.drop([\"sentiment\"], axis = 1)"
   ],
   "metadata": {
    "collapsed": false,
    "ExecuteTime": {
     "end_time": "2023-12-21T14:51:17.082984Z",
     "start_time": "2023-12-21T14:51:17.074365Z"
    }
   },
   "id": "54efebe81c838e0"
  },
  {
   "cell_type": "code",
   "execution_count": 54,
   "outputs": [],
   "source": [
    "from sklearn.model_selection import train_test_split\n",
    "\n",
    "X_train, X_test, y_train, y_test = train_test_split(X, y, test_size = 0.3, random_state = 0)"
   ],
   "metadata": {
    "collapsed": false,
    "ExecuteTime": {
     "end_time": "2023-12-21T15:00:34.413689Z",
     "start_time": "2023-12-21T15:00:34.404486Z"
    }
   },
   "id": "4724820f5a9913cc"
  },
  {
   "cell_type": "code",
   "execution_count": 55,
   "outputs": [],
   "source": [
    "# TF-IDF\n",
    "tfidf = TfidfVectorizer(stop_words = \"english\", max_features = 50000)\n",
    "\n",
    "X_train = tfidf.fit_transform(X_train.review)\n",
    "X_test = tfidf.transform(X_test.review)"
   ],
   "metadata": {
    "collapsed": false,
    "ExecuteTime": {
     "end_time": "2023-12-21T15:01:00.085217Z",
     "start_time": "2023-12-21T15:00:59.268079Z"
    }
   },
   "id": "6bdb518f416afe95"
  },
  {
   "cell_type": "code",
   "execution_count": 56,
   "outputs": [
    {
     "name": "stdout",
     "output_type": "stream",
     "text": [
      "Accuracy:  0.8253333333333334\n",
      "F1 Score:  0.8352201257861636\n",
      "Precision:  0.8127294981640147\n",
      "Recall:  0.8589909443725744\n"
     ]
    }
   ],
   "source": [
    "# XGBoost parameters\n",
    "params = {\n",
    "    \"objective\": \"binary:logistic\",\n",
    "    \"max_depth\": 3,\n",
    "    \"learning_rate\": 0.3,\n",
    "    \"verbosity\": 0,\n",
    "    \"n_jobs\": -1\n",
    "}\n",
    "\n",
    "# XGBoost\n",
    "model = xgb.XGBClassifier(**params)\n",
    "\n",
    "model.fit(X_train, y_train)\n",
    "\n",
    "y_pred = model.predict(X_test)\n",
    "\n",
    "print(\"Accuracy: \", metrics.accuracy_score(y_test, y_pred))\n",
    "print(\"F1 Score: \", metrics.f1_score(y_test, y_pred))\n",
    "print(\"Precision: \", metrics.precision_score(y_test, y_pred))\n",
    "print(\"Recall: \", metrics.recall_score(y_test, y_pred))"
   ],
   "metadata": {
    "collapsed": false,
    "ExecuteTime": {
     "end_time": "2023-12-21T15:01:40.343763Z",
     "start_time": "2023-12-21T15:01:37.330625Z"
    }
   },
   "id": "5b2a12f6e5c2a076"
  },
  {
   "cell_type": "code",
   "execution_count": 58,
   "outputs": [
    {
     "data": {
      "text/plain": "1"
     },
     "execution_count": 58,
     "metadata": {},
     "output_type": "execute_result"
    }
   ],
   "source": [
    "# sample prediction\n",
    "text = \"This movie is the best movie I have ever seen. Acting was awesome. \\\n",
    "        Visual effects were awesome. Storyline was awesome. I loved it. 10/10\"\n",
    "\n",
    "text = clean_text(text)\n",
    "\n",
    "text = tfidf.transform([text])\n",
    "\n",
    "model.predict(text)[0]"
   ],
   "metadata": {
    "collapsed": false,
    "ExecuteTime": {
     "end_time": "2023-12-21T15:02:08.493949Z",
     "start_time": "2023-12-21T15:02:08.476730Z"
    }
   },
   "id": "b2f4ba46634aaf34"
  },
  {
   "cell_type": "code",
   "execution_count": 61,
   "outputs": [
    {
     "data": {
      "text/plain": "0"
     },
     "execution_count": 61,
     "metadata": {},
     "output_type": "execute_result"
    }
   ],
   "source": [
    "# sample prediction 2\n",
    "text = \"The movie wasn't great. Boring story, flat characters, and it just didn't click. Waste of time, to be honest.\"\n",
    "\n",
    "text = clean_text(text)\n",
    "\n",
    "text = tfidf.transform([text])\n",
    "\n",
    "model.predict(text)[0]"
   ],
   "metadata": {
    "collapsed": false,
    "ExecuteTime": {
     "end_time": "2023-12-21T15:04:21.432356Z",
     "start_time": "2023-12-21T15:04:21.420413Z"
    }
   },
   "id": "408668903ad87d55"
  },
  {
   "cell_type": "code",
   "execution_count": null,
   "outputs": [],
   "source": [],
   "metadata": {
    "collapsed": false
   },
   "id": "b80a0e07e02de880"
  }
 ],
 "metadata": {
  "kernelspec": {
   "display_name": "Python 3",
   "language": "python",
   "name": "python3"
  },
  "language_info": {
   "codemirror_mode": {
    "name": "ipython",
    "version": 2
   },
   "file_extension": ".py",
   "mimetype": "text/x-python",
   "name": "python",
   "nbconvert_exporter": "python",
   "pygments_lexer": "ipython2",
   "version": "2.7.6"
  }
 },
 "nbformat": 4,
 "nbformat_minor": 5
}
