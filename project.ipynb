{
 "cells": [
  {
   "cell_type": "code",
   "execution_count": 231,
   "id": "initial_id",
   "metadata": {
    "collapsed": true,
    "ExecuteTime": {
     "end_time": "2023-12-22T17:09:01.860815Z",
     "start_time": "2023-12-22T17:09:01.846695Z"
    }
   },
   "outputs": [],
   "source": [
    "# import packages\n",
    "\n",
    "import pandas as pd\n",
    "import numpy as np\n",
    "import re\n",
    "import string\n",
    "from nltk.corpus import stopwords\n",
    "import xgboost as xgb\n",
    "from nltk.tokenize import word_tokenize\n",
    "from sklearn.feature_extraction.text import TfidfVectorizer\n",
    "\n",
    "from sklearn import metrics\n",
    "from sklearn import model_selection"
   ]
  },
  {
   "cell_type": "code",
   "execution_count": 232,
   "outputs": [],
   "source": [
    "df_ = pd.read_csv(\"datasets/IMDB Dataset.csv\")\n",
    "# %10 of data\n",
    "df_ = df_.sample(frac = 0.1).reset_index(drop = True)"
   ],
   "metadata": {
    "collapsed": false,
    "ExecuteTime": {
     "end_time": "2023-12-22T17:09:02.845631Z",
     "start_time": "2023-12-22T17:09:02.227308Z"
    }
   },
   "id": "2e84077c54e81f2f"
  },
  {
   "cell_type": "code",
   "execution_count": 233,
   "outputs": [],
   "source": [
    "df = df_.copy()"
   ],
   "metadata": {
    "collapsed": false,
    "ExecuteTime": {
     "end_time": "2023-12-22T17:09:02.855047Z",
     "start_time": "2023-12-22T17:09:02.849212Z"
    }
   },
   "id": "4e57fdadc0057a17"
  },
  {
   "cell_type": "code",
   "execution_count": 234,
   "outputs": [],
   "source": [
    "# add another column to dataset (numeric) named review length\n",
    "df[\"review_len\"] = df[\"review\"].apply(lambda x: len(x) - x.count(\" \"))\n"
   ],
   "metadata": {
    "collapsed": false,
    "ExecuteTime": {
     "end_time": "2023-12-22T17:09:03.005142Z",
     "start_time": "2023-12-22T17:09:02.971950Z"
    }
   },
   "id": "26854d7275805633"
  },
  {
   "cell_type": "code",
   "execution_count": 235,
   "outputs": [],
   "source": [
    "def check_df(xdf, xrow_count=5, xplot=False):\n",
    "    print(\"*************** DATASET INFO ************************\")\n",
    "    print(\"*************** SHAPE ************************\")\n",
    "    print(xdf.shape)\n",
    "    print(\"*************** INFO ************************\")\n",
    "    print(xdf.info())\n",
    "    print(\"*************** TIPLER ************************\")\n",
    "    print(xdf.dtypes)\n",
    "    print(\"*************** HEAD ************************\")\n",
    "    print(xdf.head(xrow_count))\n",
    "    print(\"*************** TAIL ************************\")\n",
    "    print(xdf.tail(xrow_count))\n",
    "    print(\"*************** Nan Numbers ************************\")\n",
    "    print(xdf.isnull().sum())\n",
    "    print(\"*************** Describe Istatics ************************\")\n",
    "    print(xdf.describe().T)\n",
    "    print(\"*************** UNIQUE VALUE NUMBERS ************************\")\n",
    "    print(xdf.nunique())\n",
    "    print(\"***************  ************************\")"
   ],
   "metadata": {
    "collapsed": false,
    "ExecuteTime": {
     "end_time": "2023-12-22T17:09:03.522913Z",
     "start_time": "2023-12-22T17:09:03.510919Z"
    }
   },
   "id": "a7722a8f1b987d9"
  },
  {
   "cell_type": "code",
   "execution_count": 236,
   "outputs": [
    {
     "name": "stdout",
     "output_type": "stream",
     "text": [
      "*************** DATASET INFO ************************\n",
      "*************** SHAPE ************************\n",
      "(5000, 3)\n",
      "*************** INFO ************************\n",
      "<class 'pandas.core.frame.DataFrame'>\n",
      "RangeIndex: 5000 entries, 0 to 4999\n",
      "Data columns (total 3 columns):\n",
      " #   Column      Non-Null Count  Dtype \n",
      "---  ------      --------------  ----- \n",
      " 0   review      5000 non-null   object\n",
      " 1   sentiment   5000 non-null   object\n",
      " 2   review_len  5000 non-null   int64 \n",
      "dtypes: int64(1), object(2)\n",
      "memory usage: 117.3+ KB\n",
      "None\n",
      "*************** TIPLER ************************\n",
      "review        object\n",
      "sentiment     object\n",
      "review_len     int64\n",
      "dtype: object\n",
      "*************** HEAD ************************\n",
      "                                              review sentiment  review_len\n",
      "0  Difficult to call The Grudge a horror movie. A...  negative         549\n",
      "1  At the beginning of the film we watch May and ...  positive        1949\n",
      "2  This movie was made for people who found Greml...  negative        1217\n",
      "3  Imagine the most depressing winter you will ne...  positive         654\n",
      "4  Although I use this site quite frequently to s...  negative         913\n",
      "*************** TAIL ************************\n",
      "                                                 review sentiment  review_len\n",
      "4995  I saw \"The Grudge\" yesterday, and wow... I was...  positive         589\n",
      "4996  I watched the beginning twice, could NOT make ...  negative         814\n",
      "4997  OK, before I get into this, let's go ahead and...  negative        4285\n",
      "4998  Even if you're not a \"theatre person,\" I highl...  positive         752\n",
      "4999  I saw this series when it world premiered at t...  positive        1114\n",
      "*************** Nan Numbers ************************\n",
      "review        0\n",
      "sentiment     0\n",
      "review_len    0\n",
      "dtype: int64\n",
      "*************** Describe Istatics ************************\n",
      "             count       mean        std   min    25%    50%     75%     max\n",
      "review_len  5000.0  1079.6352  810.58284  59.0  577.0  800.0  1313.0  5849.0\n",
      "*************** UNIQUE VALUE NUMBERS ************************\n",
      "review        4995\n",
      "sentiment        2\n",
      "review_len    1998\n",
      "dtype: int64\n",
      "***************  ************************\n"
     ]
    }
   ],
   "source": [
    "check_df(df)"
   ],
   "metadata": {
    "collapsed": false,
    "ExecuteTime": {
     "end_time": "2023-12-22T17:09:04.098227Z",
     "start_time": "2023-12-22T17:09:04.070761Z"
    }
   },
   "id": "f9ef21f2d498da16"
  },
  {
   "cell_type": "code",
   "execution_count": 237,
   "outputs": [],
   "source": [
    "# Log Transformation\n",
    "\n",
    "df['review_len_log'] = np.log1p(df['review_len'])"
   ],
   "metadata": {
    "collapsed": false,
    "ExecuteTime": {
     "end_time": "2023-12-22T17:09:04.923841Z",
     "start_time": "2023-12-22T17:09:04.919928Z"
    }
   },
   "id": "c4c68e0d92a4031b"
  },
  {
   "cell_type": "code",
   "execution_count": 238,
   "outputs": [
    {
     "data": {
      "text/plain": "                                              review sentiment  review_len  \\\n0  Difficult to call The Grudge a horror movie. A...  negative         549   \n1  At the beginning of the film we watch May and ...  positive        1949   \n2  This movie was made for people who found Greml...  negative        1217   \n3  Imagine the most depressing winter you will ne...  positive         654   \n4  Although I use this site quite frequently to s...  negative         913   \n\n   review_len_log  \n0        6.309918  \n1        7.575585  \n2        7.104965  \n3        6.484635  \n4        6.817831  ",
      "text/html": "<div>\n<style scoped>\n    .dataframe tbody tr th:only-of-type {\n        vertical-align: middle;\n    }\n\n    .dataframe tbody tr th {\n        vertical-align: top;\n    }\n\n    .dataframe thead th {\n        text-align: right;\n    }\n</style>\n<table border=\"1\" class=\"dataframe\">\n  <thead>\n    <tr style=\"text-align: right;\">\n      <th></th>\n      <th>review</th>\n      <th>sentiment</th>\n      <th>review_len</th>\n      <th>review_len_log</th>\n    </tr>\n  </thead>\n  <tbody>\n    <tr>\n      <th>0</th>\n      <td>Difficult to call The Grudge a horror movie. A...</td>\n      <td>negative</td>\n      <td>549</td>\n      <td>6.309918</td>\n    </tr>\n    <tr>\n      <th>1</th>\n      <td>At the beginning of the film we watch May and ...</td>\n      <td>positive</td>\n      <td>1949</td>\n      <td>7.575585</td>\n    </tr>\n    <tr>\n      <th>2</th>\n      <td>This movie was made for people who found Greml...</td>\n      <td>negative</td>\n      <td>1217</td>\n      <td>7.104965</td>\n    </tr>\n    <tr>\n      <th>3</th>\n      <td>Imagine the most depressing winter you will ne...</td>\n      <td>positive</td>\n      <td>654</td>\n      <td>6.484635</td>\n    </tr>\n    <tr>\n      <th>4</th>\n      <td>Although I use this site quite frequently to s...</td>\n      <td>negative</td>\n      <td>913</td>\n      <td>6.817831</td>\n    </tr>\n  </tbody>\n</table>\n</div>"
     },
     "execution_count": 238,
     "metadata": {},
     "output_type": "execute_result"
    }
   ],
   "source": [
    "df.head()\n",
    "\n",
    "# row 0 values (print like table)\n",
    "# print(df.iloc[:10,:])"
   ],
   "metadata": {
    "collapsed": false,
    "ExecuteTime": {
     "end_time": "2023-12-22T17:09:06.470922Z",
     "start_time": "2023-12-22T17:09:06.462193Z"
    }
   },
   "id": "bf0392ac8a6083e"
  },
  {
   "cell_type": "code",
   "execution_count": 239,
   "outputs": [
    {
     "data": {
      "text/plain": "review_len_category\nc    2933\nd    1411\nb     434\ne     203\na      19\nName: count, dtype: int64"
     },
     "execution_count": 239,
     "metadata": {},
     "output_type": "execute_result"
    }
   ],
   "source": [
    "# one hot encoding for review_len_log with cut function\n",
    "\n",
    "# df[\"review_len_log\"].describe().T\n",
    "\n",
    "# Kategorilere ayırmak için aralıkları belirle\n",
    "bins = [3, 5, 6, 7, 8, 10]\n",
    "\n",
    "# Kategori etiketlerini belirle\n",
    "labels = ['a', 'b', 'c', 'd', 'e']\n",
    "\n",
    "# cut fonksiyonunu kullanarak kategorilere ayır\n",
    "df['review_len_category'] = pd.cut(df['review_len_log'], bins=bins, labels=labels)\n",
    "\n",
    "# show random 30 rows\n",
    "df[\"review_len_category\"].value_counts()"
   ],
   "metadata": {
    "collapsed": false,
    "ExecuteTime": {
     "end_time": "2023-12-22T17:09:07.515071Z",
     "start_time": "2023-12-22T17:09:07.509609Z"
    }
   },
   "id": "269b471fc5c46fe1"
  },
  {
   "cell_type": "code",
   "execution_count": 240,
   "outputs": [],
   "source": [
    "# drop first column (one hot encoding)\n",
    "df = pd.get_dummies(df, columns=['review_len_category'], drop_first=True)"
   ],
   "metadata": {
    "collapsed": false,
    "ExecuteTime": {
     "end_time": "2023-12-22T17:09:08.669206Z",
     "start_time": "2023-12-22T17:09:08.656813Z"
    }
   },
   "id": "aebec501f92ce8cb"
  },
  {
   "cell_type": "code",
   "execution_count": 241,
   "outputs": [
    {
     "data": {
      "text/plain": "                                              review sentiment  \\\n0  Difficult to call The Grudge a horror movie. A...  negative   \n1  At the beginning of the film we watch May and ...  positive   \n2  This movie was made for people who found Greml...  negative   \n3  Imagine the most depressing winter you will ne...  positive   \n4  Although I use this site quite frequently to s...  negative   \n\n   review_len_category_b  review_len_category_c  review_len_category_d  \\\n0                  False                   True                  False   \n1                  False                  False                   True   \n2                  False                  False                   True   \n3                  False                   True                  False   \n4                  False                   True                  False   \n\n   review_len_category_e  \n0                  False  \n1                  False  \n2                  False  \n3                  False  \n4                  False  ",
      "text/html": "<div>\n<style scoped>\n    .dataframe tbody tr th:only-of-type {\n        vertical-align: middle;\n    }\n\n    .dataframe tbody tr th {\n        vertical-align: top;\n    }\n\n    .dataframe thead th {\n        text-align: right;\n    }\n</style>\n<table border=\"1\" class=\"dataframe\">\n  <thead>\n    <tr style=\"text-align: right;\">\n      <th></th>\n      <th>review</th>\n      <th>sentiment</th>\n      <th>review_len_category_b</th>\n      <th>review_len_category_c</th>\n      <th>review_len_category_d</th>\n      <th>review_len_category_e</th>\n    </tr>\n  </thead>\n  <tbody>\n    <tr>\n      <th>0</th>\n      <td>Difficult to call The Grudge a horror movie. A...</td>\n      <td>negative</td>\n      <td>False</td>\n      <td>True</td>\n      <td>False</td>\n      <td>False</td>\n    </tr>\n    <tr>\n      <th>1</th>\n      <td>At the beginning of the film we watch May and ...</td>\n      <td>positive</td>\n      <td>False</td>\n      <td>False</td>\n      <td>True</td>\n      <td>False</td>\n    </tr>\n    <tr>\n      <th>2</th>\n      <td>This movie was made for people who found Greml...</td>\n      <td>negative</td>\n      <td>False</td>\n      <td>False</td>\n      <td>True</td>\n      <td>False</td>\n    </tr>\n    <tr>\n      <th>3</th>\n      <td>Imagine the most depressing winter you will ne...</td>\n      <td>positive</td>\n      <td>False</td>\n      <td>True</td>\n      <td>False</td>\n      <td>False</td>\n    </tr>\n    <tr>\n      <th>4</th>\n      <td>Although I use this site quite frequently to s...</td>\n      <td>negative</td>\n      <td>False</td>\n      <td>True</td>\n      <td>False</td>\n      <td>False</td>\n    </tr>\n  </tbody>\n</table>\n</div>"
     },
     "execution_count": 241,
     "metadata": {},
     "output_type": "execute_result"
    }
   ],
   "source": [
    "df = df.drop([\"review_len_log\", \"review_len\"], axis = 1)\n",
    "df.head()"
   ],
   "metadata": {
    "collapsed": false,
    "ExecuteTime": {
     "end_time": "2023-12-22T17:09:09.159402Z",
     "start_time": "2023-12-22T17:09:09.149686Z"
    }
   },
   "id": "99a663ff6dd32904"
  },
  {
   "cell_type": "code",
   "execution_count": 242,
   "outputs": [
    {
     "data": {
      "text/plain": "review                   0\nsentiment                0\nreview_len_category_b    0\nreview_len_category_c    0\nreview_len_category_d    0\nreview_len_category_e    0\ndtype: int64"
     },
     "execution_count": 242,
     "metadata": {},
     "output_type": "execute_result"
    }
   ],
   "source": [
    "df.isnull().sum()"
   ],
   "metadata": {
    "collapsed": false,
    "ExecuteTime": {
     "end_time": "2023-12-22T17:09:09.960651Z",
     "start_time": "2023-12-22T17:09:09.947524Z"
    }
   },
   "id": "5c6c5d31668e543a"
  },
  {
   "cell_type": "code",
   "execution_count": 243,
   "outputs": [],
   "source": [
    "# positive -> 1, negative -> 0\n",
    "df[\"sentiment\"] = [1 if i == \"positive\" else 0 for i in df[\"sentiment\"]]\n",
    "df[\"review_len_category_b\"] = [1 if i == True else 0 for i in df[\"review_len_category_b\"]]\n",
    "df[\"review_len_category_c\"] = [1 if i == True else 0 for i in df[\"review_len_category_c\"]]\n",
    "df[\"review_len_category_d\"] = [1 if i == True else 0 for i in df[\"review_len_category_d\"]]\n",
    "df[\"review_len_category_e\"] = [1 if i == True else 0 for i in df[\"review_len_category_e\"]]"
   ],
   "metadata": {
    "collapsed": false,
    "ExecuteTime": {
     "end_time": "2023-12-22T17:09:10.768321Z",
     "start_time": "2023-12-22T17:09:10.752764Z"
    }
   },
   "id": "d70216b3e107540"
  },
  {
   "cell_type": "code",
   "execution_count": 244,
   "outputs": [
    {
     "data": {
      "text/plain": "                                              review  sentiment  \\\n0  Difficult to call The Grudge a horror movie. A...          0   \n1  At the beginning of the film we watch May and ...          1   \n2  This movie was made for people who found Greml...          0   \n3  Imagine the most depressing winter you will ne...          1   \n4  Although I use this site quite frequently to s...          0   \n\n   review_len_category_b  review_len_category_c  review_len_category_d  \\\n0                      0                      1                      0   \n1                      0                      0                      1   \n2                      0                      0                      1   \n3                      0                      1                      0   \n4                      0                      1                      0   \n\n   review_len_category_e  \n0                      0  \n1                      0  \n2                      0  \n3                      0  \n4                      0  ",
      "text/html": "<div>\n<style scoped>\n    .dataframe tbody tr th:only-of-type {\n        vertical-align: middle;\n    }\n\n    .dataframe tbody tr th {\n        vertical-align: top;\n    }\n\n    .dataframe thead th {\n        text-align: right;\n    }\n</style>\n<table border=\"1\" class=\"dataframe\">\n  <thead>\n    <tr style=\"text-align: right;\">\n      <th></th>\n      <th>review</th>\n      <th>sentiment</th>\n      <th>review_len_category_b</th>\n      <th>review_len_category_c</th>\n      <th>review_len_category_d</th>\n      <th>review_len_category_e</th>\n    </tr>\n  </thead>\n  <tbody>\n    <tr>\n      <th>0</th>\n      <td>Difficult to call The Grudge a horror movie. A...</td>\n      <td>0</td>\n      <td>0</td>\n      <td>1</td>\n      <td>0</td>\n      <td>0</td>\n    </tr>\n    <tr>\n      <th>1</th>\n      <td>At the beginning of the film we watch May and ...</td>\n      <td>1</td>\n      <td>0</td>\n      <td>0</td>\n      <td>1</td>\n      <td>0</td>\n    </tr>\n    <tr>\n      <th>2</th>\n      <td>This movie was made for people who found Greml...</td>\n      <td>0</td>\n      <td>0</td>\n      <td>0</td>\n      <td>1</td>\n      <td>0</td>\n    </tr>\n    <tr>\n      <th>3</th>\n      <td>Imagine the most depressing winter you will ne...</td>\n      <td>1</td>\n      <td>0</td>\n      <td>1</td>\n      <td>0</td>\n      <td>0</td>\n    </tr>\n    <tr>\n      <th>4</th>\n      <td>Although I use this site quite frequently to s...</td>\n      <td>0</td>\n      <td>0</td>\n      <td>1</td>\n      <td>0</td>\n      <td>0</td>\n    </tr>\n  </tbody>\n</table>\n</div>"
     },
     "execution_count": 244,
     "metadata": {},
     "output_type": "execute_result"
    }
   ],
   "source": [
    "df.head()"
   ],
   "metadata": {
    "collapsed": false,
    "ExecuteTime": {
     "end_time": "2023-12-22T17:09:11.506813Z",
     "start_time": "2023-12-22T17:09:11.496399Z"
    }
   },
   "id": "4ed5f68c5d786904"
  },
  {
   "cell_type": "code",
   "execution_count": 245,
   "outputs": [],
   "source": [
    "#create a new column called kfold and fill it with -1\n",
    "# df['kfold'] = -1\n",
    "#randomize rows of the data\n",
    "df = df.sample(frac = 1).reset_index(drop = True)\n",
    "y = df.sentiment.values #labels"
   ],
   "metadata": {
    "collapsed": false,
    "ExecuteTime": {
     "end_time": "2023-12-22T17:09:12.385764Z",
     "start_time": "2023-12-22T17:09:12.375741Z"
    }
   },
   "id": "838310645f312580"
  },
  {
   "cell_type": "code",
   "execution_count": 246,
   "outputs": [],
   "source": [
    "#clean text\n",
    "def clean_text(text):\n",
    "    #lowercase every letter\n",
    "    text = text.split() #split by all white spaces\n",
    "    \n",
    "    #join tokens by single space, this will remove all kinds of weird spaces\n",
    "    text = \" \".join(text)\n",
    "    #removes all punctuation using regex and string module\n",
    "    text = re.sub(f'[{re.escape(string.punctuation)}]', '', text)\n",
    "    \n",
    "    \n",
    "    return text\n",
    "\n",
    "df.loc[:,'review'] = df.review.apply(clean_text)"
   ],
   "metadata": {
    "collapsed": false,
    "ExecuteTime": {
     "end_time": "2023-12-22T17:09:13.372323Z",
     "start_time": "2023-12-22T17:09:13.183348Z"
    }
   },
   "id": "5ccc26c8185777fa"
  },
  {
   "cell_type": "code",
   "execution_count": 247,
   "outputs": [
    {
     "data": {
      "text/plain": "                                              review  sentiment  \\\n0  This is like something I have NEVER seen befor...          1   \n1  Being a fan of the series I thought how bad ca...          0   \n2  Long ago and far away they knew how to make a ...          1   \n3  I saw this pilot when it was first shown and I...          1   \n4  This was my first introduction to the world of...          1   \n\n   review_len_category_b  review_len_category_c  review_len_category_d  \\\n0                      0                      1                      0   \n1                      0                      1                      0   \n2                      0                      1                      0   \n3                      0                      1                      0   \n4                      0                      1                      0   \n\n   review_len_category_e  \n0                      0  \n1                      0  \n2                      0  \n3                      0  \n4                      0  ",
      "text/html": "<div>\n<style scoped>\n    .dataframe tbody tr th:only-of-type {\n        vertical-align: middle;\n    }\n\n    .dataframe tbody tr th {\n        vertical-align: top;\n    }\n\n    .dataframe thead th {\n        text-align: right;\n    }\n</style>\n<table border=\"1\" class=\"dataframe\">\n  <thead>\n    <tr style=\"text-align: right;\">\n      <th></th>\n      <th>review</th>\n      <th>sentiment</th>\n      <th>review_len_category_b</th>\n      <th>review_len_category_c</th>\n      <th>review_len_category_d</th>\n      <th>review_len_category_e</th>\n    </tr>\n  </thead>\n  <tbody>\n    <tr>\n      <th>0</th>\n      <td>This is like something I have NEVER seen befor...</td>\n      <td>1</td>\n      <td>0</td>\n      <td>1</td>\n      <td>0</td>\n      <td>0</td>\n    </tr>\n    <tr>\n      <th>1</th>\n      <td>Being a fan of the series I thought how bad ca...</td>\n      <td>0</td>\n      <td>0</td>\n      <td>1</td>\n      <td>0</td>\n      <td>0</td>\n    </tr>\n    <tr>\n      <th>2</th>\n      <td>Long ago and far away they knew how to make a ...</td>\n      <td>1</td>\n      <td>0</td>\n      <td>1</td>\n      <td>0</td>\n      <td>0</td>\n    </tr>\n    <tr>\n      <th>3</th>\n      <td>I saw this pilot when it was first shown and I...</td>\n      <td>1</td>\n      <td>0</td>\n      <td>1</td>\n      <td>0</td>\n      <td>0</td>\n    </tr>\n    <tr>\n      <th>4</th>\n      <td>This was my first introduction to the world of...</td>\n      <td>1</td>\n      <td>0</td>\n      <td>1</td>\n      <td>0</td>\n      <td>0</td>\n    </tr>\n  </tbody>\n</table>\n</div>"
     },
     "execution_count": 247,
     "metadata": {},
     "output_type": "execute_result"
    }
   ],
   "source": [
    "df.head()"
   ],
   "metadata": {
    "collapsed": false,
    "ExecuteTime": {
     "end_time": "2023-12-22T17:09:14.258929Z",
     "start_time": "2023-12-22T17:09:14.246878Z"
    }
   },
   "id": "4415bc5929a46c2f"
  },
  {
   "cell_type": "code",
   "execution_count": 248,
   "outputs": [],
   "source": [
    "# 10-fold cross validation\n",
    "\n",
    "#X = df.drop([\"sentiment\", \"review_len_log\", \"review_len\"], axis = 1)\n",
    "X = df.drop([\"sentiment\"], axis = 1)\n",
    "y = df[\"sentiment\"]"
   ],
   "metadata": {
    "collapsed": false,
    "ExecuteTime": {
     "end_time": "2023-12-22T17:09:15.321028Z",
     "start_time": "2023-12-22T17:09:15.310926Z"
    }
   },
   "id": "54efebe81c838e0"
  },
  {
   "cell_type": "code",
   "execution_count": 249,
   "outputs": [
    {
     "data": {
      "text/plain": "0       1\n1       0\n2       1\n3       1\n4       1\n       ..\n4995    0\n4996    1\n4997    0\n4998    1\n4999    0\nName: sentiment, Length: 5000, dtype: int64"
     },
     "execution_count": 249,
     "metadata": {},
     "output_type": "execute_result"
    }
   ],
   "source": [
    "y"
   ],
   "metadata": {
    "collapsed": false,
    "ExecuteTime": {
     "end_time": "2023-12-22T17:09:16.067640Z",
     "start_time": "2023-12-22T17:09:16.056350Z"
    }
   },
   "id": "3a042e803adb0f15"
  },
  {
   "cell_type": "code",
   "execution_count": 250,
   "outputs": [],
   "source": [
    "from sklearn.model_selection import train_test_split\n",
    "\n",
    "X_train, X_test, y_train, y_test = train_test_split(X, y, test_size = 0.3, random_state = 0)"
   ],
   "metadata": {
    "collapsed": false,
    "ExecuteTime": {
     "end_time": "2023-12-22T17:09:16.835697Z",
     "start_time": "2023-12-22T17:09:16.826195Z"
    }
   },
   "id": "4724820f5a9913cc"
  },
  {
   "cell_type": "code",
   "execution_count": 251,
   "outputs": [],
   "source": [
    "# TF-IDF\n",
    "tfidf = TfidfVectorizer(stop_words = \"english\", max_features = 42151)\n",
    "\n",
    "X_train_tfidf = tfidf.fit_transform(X_train.review)\n",
    "X_test_tfidf = tfidf.transform(X_test.review)"
   ],
   "metadata": {
    "collapsed": false,
    "ExecuteTime": {
     "end_time": "2023-12-22T17:09:19.120284Z",
     "start_time": "2023-12-22T17:09:18.075036Z"
    }
   },
   "id": "6bdb518f416afe95"
  },
  {
   "cell_type": "code",
   "execution_count": 307,
   "outputs": [
    {
     "name": "stdout",
     "output_type": "stream",
     "text": [
      "Accuracy:  0.8113333333333334\n",
      "F1 Score:  0.8165910563836681\n",
      "Precision:  0.7797029702970297\n",
      "Recall:  0.8571428571428571\n"
     ]
    }
   ],
   "source": [
    "# XGBoost parameters\n",
    "params = {\n",
    "    \"objective\": \"binary:logistic\",\n",
    "    \"max_depth\": 5,\n",
    "    \"learning_rate\": 0.15,\n",
    "    \"verbosity\": 0,\n",
    "    \"n_jobs\": -1\n",
    "}\n",
    "\n",
    "# change parameters to use review and review_len_category_b, review_len_category_c, review_len_category_d, review_len_category_e to affect the model\n",
    "\n",
    "# XGBoost\n",
    "model = xgb.XGBClassifier(**params)\n",
    "\n",
    "#model.fit(X_train_tfidf, y_train) (old)\n",
    "\n",
    "# use review and review_len_category_b, review_len_category_c, review_len_category_d, review_len_category_e\n",
    "model.fit(np.concatenate((X_train_tfidf.toarray(), X_train[[\"review_len_category_b\", \"review_len_category_c\", \"review_len_category_d\", \"review_len_category_e\"]].to_numpy()), axis = 1), y_train)\n",
    "\n",
    "# y_pred = model.predict(X_test_tfidf) (old)\n",
    "\n",
    "# use review and review_len_category_b, review_len_category_c, review_len_category_d, review_len_category_e\n",
    "y_pred = model.predict(np.concatenate((X_test_tfidf.toarray(), X_test[[\"review_len_category_b\", \"review_len_category_c\", \"review_len_category_d\", \"review_len_category_e\"]].to_numpy()), axis = 1))\n",
    "\n",
    "print(\"Accuracy: \", metrics.accuracy_score(y_test, y_pred))\n",
    "print(\"F1 Score: \", metrics.f1_score(y_test, y_pred))\n",
    "print(\"Precision: \", metrics.precision_score(y_test, y_pred))\n",
    "print(\"Recall: \", metrics.recall_score(y_test, y_pred))"
   ],
   "metadata": {
    "collapsed": false,
    "ExecuteTime": {
     "end_time": "2023-12-22T17:25:45.954397Z",
     "start_time": "2023-12-22T17:25:11.345445Z"
    }
   },
   "id": "5b2a12f6e5c2a076"
  },
  {
   "cell_type": "code",
   "execution_count": null,
   "outputs": [],
   "source": [
    "# use grid search to find best parameters\n"
   ],
   "metadata": {
    "collapsed": false
   },
   "id": "5a60631472bb9011"
  },
  {
   "cell_type": "code",
   "execution_count": 317,
   "outputs": [
    {
     "data": {
      "text/plain": "1"
     },
     "execution_count": 317,
     "metadata": {},
     "output_type": "execute_result"
    }
   ],
   "source": [
    "# sample prediction\n",
    "\n",
    "text = \"I grew up on this movie and I can remember when my brother and I used to play in the backyard and pretend we were in Carealot Now after so many years have passed I get to watch the movie with\"\n",
    "\n",
    "text = clean_text(text)\n",
    "\n",
    "text = tfidf.transform([text])\n",
    "\n",
    "review_len_category_b = 1\n",
    "review_len_category_c = 0\n",
    "review_len_category_d = 0\n",
    "review_len_category_e = 0\n",
    "\n",
    "my_pred = np.concatenate((text.toarray(), np.array([[review_len_category_b, review_len_category_c, review_len_category_d, review_len_category_e]])), axis = 1)\n",
    "\n",
    "# predict\n",
    "model.predict(my_pred)[0]"
   ],
   "metadata": {
    "collapsed": false,
    "ExecuteTime": {
     "end_time": "2023-12-22T17:27:04.483933Z",
     "start_time": "2023-12-22T17:27:04.457290Z"
    }
   },
   "id": "c9ecaeeb958d09fa"
  },
  {
   "cell_type": "code",
   "execution_count": 255,
   "outputs": [
    {
     "name": "stdout",
     "output_type": "stream",
     "text": [
      "(3500, 41791)\n",
      "(1500, 41791)\n",
      "(1, 41791)\n"
     ]
    }
   ],
   "source": [
    "print(X_train_tfidf.shape)\n",
    "print(X_test_tfidf.shape)\n",
    "print(text.shape)\n",
    "# print(category_encoded.shape)\n",
    "# print(combined_features.shape)"
   ],
   "metadata": {
    "collapsed": false,
    "ExecuteTime": {
     "end_time": "2023-12-22T17:10:37.471592Z",
     "start_time": "2023-12-22T17:10:37.458511Z"
    }
   },
   "id": "9438ca1be1e25d47"
  },
  {
   "cell_type": "code",
   "execution_count": 304,
   "outputs": [
    {
     "data": {
      "text/plain": "review_len_category_e\n0    4797\n1     203\nName: count, dtype: int64"
     },
     "execution_count": 304,
     "metadata": {},
     "output_type": "execute_result"
    }
   ],
   "source": [
    "df[\"review_len_category_e\"].value_counts()"
   ],
   "metadata": {
    "collapsed": false,
    "ExecuteTime": {
     "end_time": "2023-12-22T17:22:50.929342Z",
     "start_time": "2023-12-22T17:22:50.914606Z"
    }
   },
   "id": "c7aa08b7f938e5e5"
  },
  {
   "cell_type": "code",
   "execution_count": 313,
   "outputs": [
    {
     "data": {
      "text/plain": "                                               review  sentiment  \\\n0   This is like something I have NEVER seen befor...          1   \n2   Long ago and far away they knew how to make a ...          1   \n3   I saw this pilot when it was first shown and I...          1   \n4   This was my first introduction to the world of...          1   \n5   I like cheap perfume better it doesnt last as ...          1   \n8   If youre interested in learning about the real...          1   \n9   This movie was fun if all over the boardbr br ...          1   \n11  This is a truly remarkable piece of cinematic ...          1   \n13  What would it be like to be accused of being a...          1   \n14  I was hooked from beginning to end Great horro...          1   \n15  I thought it was going to be a lousy movie hon...          1   \n20  Was flipping around the TV and HBO was showing...          1   \n22  If you had asked me how the movie was througho...          1   \n24  I absolutely love this show but I saw the seco...          1   \n27  Reasonably effective horrorsciencefiction a la...          1   \n28  There was something about the original three f...          1   \n29  It may be a little creaky now and it certainly...          1   \n30  Wendigo is a pretty good psychological thrille...          1   \n31  Having just seen this I find it hard to believ...          1   \n33  Its a good movie maybe I like it because it wa...          1   \n34  Recap The morning after his bachelor party Pau...          1   \n35  While Fred Schepisis IQ doesnt really have any...          1   \n38  Punctuating the opening credits sequence is a ...          1   \n39  I grew up on this movie and I can remember whe...          1   \n42  It is an almost ideal romantic anime MUST SEE ...          1   \n44  The Aristocats is classic Disney at its best I...          1   \n47  br br Philistines beware especially American o...          1   \n48  I loved this movie it was cute and funny Laure...          1   \n52  Warningcontains spoilersbr br This is one of t...          1   \n54  I have never danced flamenco before but someho...          1   \n\n    review_len_category_b  review_len_category_c  review_len_category_d  \\\n0                       0                      1                      0   \n2                       0                      1                      0   \n3                       0                      1                      0   \n4                       0                      1                      0   \n5                       0                      1                      0   \n8                       1                      0                      0   \n9                       0                      1                      0   \n11                      0                      1                      0   \n13                      1                      0                      0   \n14                      0                      0                      1   \n15                      0                      1                      0   \n20                      0                      1                      0   \n22                      0                      1                      0   \n24                      0                      1                      0   \n27                      1                      0                      0   \n28                      0                      1                      0   \n29                      0                      0                      1   \n30                      0                      0                      1   \n31                      1                      0                      0   \n33                      1                      0                      0   \n34                      0                      1                      0   \n35                      0                      1                      0   \n38                      0                      0                      1   \n39                      0                      1                      0   \n42                      0                      0                      0   \n44                      0                      0                      1   \n47                      0                      1                      0   \n48                      0                      1                      0   \n52                      0                      1                      0   \n54                      0                      1                      0   \n\n    review_len_category_e  \n0                       0  \n2                       0  \n3                       0  \n4                       0  \n5                       0  \n8                       0  \n9                       0  \n11                      0  \n13                      0  \n14                      0  \n15                      0  \n20                      0  \n22                      0  \n24                      0  \n27                      0  \n28                      0  \n29                      0  \n30                      0  \n31                      0  \n33                      0  \n34                      0  \n35                      0  \n38                      0  \n39                      0  \n42                      0  \n44                      0  \n47                      0  \n48                      0  \n52                      0  \n54                      0  ",
      "text/html": "<div>\n<style scoped>\n    .dataframe tbody tr th:only-of-type {\n        vertical-align: middle;\n    }\n\n    .dataframe tbody tr th {\n        vertical-align: top;\n    }\n\n    .dataframe thead th {\n        text-align: right;\n    }\n</style>\n<table border=\"1\" class=\"dataframe\">\n  <thead>\n    <tr style=\"text-align: right;\">\n      <th></th>\n      <th>review</th>\n      <th>sentiment</th>\n      <th>review_len_category_b</th>\n      <th>review_len_category_c</th>\n      <th>review_len_category_d</th>\n      <th>review_len_category_e</th>\n    </tr>\n  </thead>\n  <tbody>\n    <tr>\n      <th>0</th>\n      <td>This is like something I have NEVER seen befor...</td>\n      <td>1</td>\n      <td>0</td>\n      <td>1</td>\n      <td>0</td>\n      <td>0</td>\n    </tr>\n    <tr>\n      <th>2</th>\n      <td>Long ago and far away they knew how to make a ...</td>\n      <td>1</td>\n      <td>0</td>\n      <td>1</td>\n      <td>0</td>\n      <td>0</td>\n    </tr>\n    <tr>\n      <th>3</th>\n      <td>I saw this pilot when it was first shown and I...</td>\n      <td>1</td>\n      <td>0</td>\n      <td>1</td>\n      <td>0</td>\n      <td>0</td>\n    </tr>\n    <tr>\n      <th>4</th>\n      <td>This was my first introduction to the world of...</td>\n      <td>1</td>\n      <td>0</td>\n      <td>1</td>\n      <td>0</td>\n      <td>0</td>\n    </tr>\n    <tr>\n      <th>5</th>\n      <td>I like cheap perfume better it doesnt last as ...</td>\n      <td>1</td>\n      <td>0</td>\n      <td>1</td>\n      <td>0</td>\n      <td>0</td>\n    </tr>\n    <tr>\n      <th>8</th>\n      <td>If youre interested in learning about the real...</td>\n      <td>1</td>\n      <td>1</td>\n      <td>0</td>\n      <td>0</td>\n      <td>0</td>\n    </tr>\n    <tr>\n      <th>9</th>\n      <td>This movie was fun if all over the boardbr br ...</td>\n      <td>1</td>\n      <td>0</td>\n      <td>1</td>\n      <td>0</td>\n      <td>0</td>\n    </tr>\n    <tr>\n      <th>11</th>\n      <td>This is a truly remarkable piece of cinematic ...</td>\n      <td>1</td>\n      <td>0</td>\n      <td>1</td>\n      <td>0</td>\n      <td>0</td>\n    </tr>\n    <tr>\n      <th>13</th>\n      <td>What would it be like to be accused of being a...</td>\n      <td>1</td>\n      <td>1</td>\n      <td>0</td>\n      <td>0</td>\n      <td>0</td>\n    </tr>\n    <tr>\n      <th>14</th>\n      <td>I was hooked from beginning to end Great horro...</td>\n      <td>1</td>\n      <td>0</td>\n      <td>0</td>\n      <td>1</td>\n      <td>0</td>\n    </tr>\n    <tr>\n      <th>15</th>\n      <td>I thought it was going to be a lousy movie hon...</td>\n      <td>1</td>\n      <td>0</td>\n      <td>1</td>\n      <td>0</td>\n      <td>0</td>\n    </tr>\n    <tr>\n      <th>20</th>\n      <td>Was flipping around the TV and HBO was showing...</td>\n      <td>1</td>\n      <td>0</td>\n      <td>1</td>\n      <td>0</td>\n      <td>0</td>\n    </tr>\n    <tr>\n      <th>22</th>\n      <td>If you had asked me how the movie was througho...</td>\n      <td>1</td>\n      <td>0</td>\n      <td>1</td>\n      <td>0</td>\n      <td>0</td>\n    </tr>\n    <tr>\n      <th>24</th>\n      <td>I absolutely love this show but I saw the seco...</td>\n      <td>1</td>\n      <td>0</td>\n      <td>1</td>\n      <td>0</td>\n      <td>0</td>\n    </tr>\n    <tr>\n      <th>27</th>\n      <td>Reasonably effective horrorsciencefiction a la...</td>\n      <td>1</td>\n      <td>1</td>\n      <td>0</td>\n      <td>0</td>\n      <td>0</td>\n    </tr>\n    <tr>\n      <th>28</th>\n      <td>There was something about the original three f...</td>\n      <td>1</td>\n      <td>0</td>\n      <td>1</td>\n      <td>0</td>\n      <td>0</td>\n    </tr>\n    <tr>\n      <th>29</th>\n      <td>It may be a little creaky now and it certainly...</td>\n      <td>1</td>\n      <td>0</td>\n      <td>0</td>\n      <td>1</td>\n      <td>0</td>\n    </tr>\n    <tr>\n      <th>30</th>\n      <td>Wendigo is a pretty good psychological thrille...</td>\n      <td>1</td>\n      <td>0</td>\n      <td>0</td>\n      <td>1</td>\n      <td>0</td>\n    </tr>\n    <tr>\n      <th>31</th>\n      <td>Having just seen this I find it hard to believ...</td>\n      <td>1</td>\n      <td>1</td>\n      <td>0</td>\n      <td>0</td>\n      <td>0</td>\n    </tr>\n    <tr>\n      <th>33</th>\n      <td>Its a good movie maybe I like it because it wa...</td>\n      <td>1</td>\n      <td>1</td>\n      <td>0</td>\n      <td>0</td>\n      <td>0</td>\n    </tr>\n    <tr>\n      <th>34</th>\n      <td>Recap The morning after his bachelor party Pau...</td>\n      <td>1</td>\n      <td>0</td>\n      <td>1</td>\n      <td>0</td>\n      <td>0</td>\n    </tr>\n    <tr>\n      <th>35</th>\n      <td>While Fred Schepisis IQ doesnt really have any...</td>\n      <td>1</td>\n      <td>0</td>\n      <td>1</td>\n      <td>0</td>\n      <td>0</td>\n    </tr>\n    <tr>\n      <th>38</th>\n      <td>Punctuating the opening credits sequence is a ...</td>\n      <td>1</td>\n      <td>0</td>\n      <td>0</td>\n      <td>1</td>\n      <td>0</td>\n    </tr>\n    <tr>\n      <th>39</th>\n      <td>I grew up on this movie and I can remember whe...</td>\n      <td>1</td>\n      <td>0</td>\n      <td>1</td>\n      <td>0</td>\n      <td>0</td>\n    </tr>\n    <tr>\n      <th>42</th>\n      <td>It is an almost ideal romantic anime MUST SEE ...</td>\n      <td>1</td>\n      <td>0</td>\n      <td>0</td>\n      <td>0</td>\n      <td>0</td>\n    </tr>\n    <tr>\n      <th>44</th>\n      <td>The Aristocats is classic Disney at its best I...</td>\n      <td>1</td>\n      <td>0</td>\n      <td>0</td>\n      <td>1</td>\n      <td>0</td>\n    </tr>\n    <tr>\n      <th>47</th>\n      <td>br br Philistines beware especially American o...</td>\n      <td>1</td>\n      <td>0</td>\n      <td>1</td>\n      <td>0</td>\n      <td>0</td>\n    </tr>\n    <tr>\n      <th>48</th>\n      <td>I loved this movie it was cute and funny Laure...</td>\n      <td>1</td>\n      <td>0</td>\n      <td>1</td>\n      <td>0</td>\n      <td>0</td>\n    </tr>\n    <tr>\n      <th>52</th>\n      <td>Warningcontains spoilersbr br This is one of t...</td>\n      <td>1</td>\n      <td>0</td>\n      <td>1</td>\n      <td>0</td>\n      <td>0</td>\n    </tr>\n    <tr>\n      <th>54</th>\n      <td>I have never danced flamenco before but someho...</td>\n      <td>1</td>\n      <td>0</td>\n      <td>1</td>\n      <td>0</td>\n      <td>0</td>\n    </tr>\n  </tbody>\n</table>\n</div>"
     },
     "execution_count": 313,
     "metadata": {},
     "output_type": "execute_result"
    }
   ],
   "source": [
    "# df[(df[\"sentiment\"] == 0) & (df[\"review_len_category_b\"] == 1) & (df[\"review_len_category_c\"] == 0) & (df[\"review_len_category_d\"] == 0) & (df[\"review_len_category_e\"] == 0)].head()\n",
    "\n",
    "df[df[\"sentiment\"] == 1].head(30)"
   ],
   "metadata": {
    "collapsed": false,
    "ExecuteTime": {
     "end_time": "2023-12-22T17:26:29.139115Z",
     "start_time": "2023-12-22T17:26:29.120870Z"
    }
   },
   "id": "1496707f22f49371"
  },
  {
   "cell_type": "code",
   "execution_count": 33,
   "outputs": [
    {
     "data": {
      "text/plain": "1"
     },
     "execution_count": 33,
     "metadata": {},
     "output_type": "execute_result"
    }
   ],
   "source": [
    "# # sample prediction\n",
    "# text = \"This movie is the best movie I have ever seen. Acting was awesome. \\\n",
    "#         Visual effects were awesome. Storyline was awesome. I loved it. 10/10\"\n",
    "# \n",
    "# text = clean_text(text)\n",
    "# \n",
    "# text = tfidf.transform([text])\n",
    "# \n",
    "# model.predict(text)[0]"
   ],
   "metadata": {
    "collapsed": false,
    "ExecuteTime": {
     "end_time": "2023-12-22T13:26:19.220593Z",
     "start_time": "2023-12-22T13:26:19.164624Z"
    }
   },
   "id": "b2f4ba46634aaf34"
  },
  {
   "cell_type": "code",
   "execution_count": 34,
   "outputs": [
    {
     "data": {
      "text/plain": "0"
     },
     "execution_count": 34,
     "metadata": {},
     "output_type": "execute_result"
    }
   ],
   "source": [
    "# # sample prediction 2\n",
    "# text = \"The movie wasn't great. Boring story, flat characters, and it just didn't click. Waste of time, to be honest.\"\n",
    "# \n",
    "# text = clean_text(text)\n",
    "# \n",
    "# text = tfidf.transform([text])\n",
    "# \n",
    "# model.predict(text)[0]"
   ],
   "metadata": {
    "collapsed": false,
    "ExecuteTime": {
     "end_time": "2023-12-22T13:26:20.077791Z",
     "start_time": "2023-12-22T13:26:20.027185Z"
    }
   },
   "id": "408668903ad87d55"
  },
  {
   "cell_type": "code",
   "execution_count": null,
   "outputs": [],
   "source": [
    "\n"
   ],
   "metadata": {
    "collapsed": false
   },
   "id": "d42c65a21003d5e0"
  }
 ],
 "metadata": {
  "kernelspec": {
   "display_name": "Python 3",
   "language": "python",
   "name": "python3"
  },
  "language_info": {
   "codemirror_mode": {
    "name": "ipython",
    "version": 2
   },
   "file_extension": ".py",
   "mimetype": "text/x-python",
   "name": "python",
   "nbconvert_exporter": "python",
   "pygments_lexer": "ipython2",
   "version": "2.7.6"
  }
 },
 "nbformat": 4,
 "nbformat_minor": 5
}
